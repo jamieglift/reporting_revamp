{
 "cells": [
  {
   "cell_type": "markdown",
   "id": "a60207ae",
   "metadata": {},
   "source": [
    "# Ingest Beeswax & Ipon Reports (API)"
   ]
  },
  {
   "cell_type": "markdown",
   "id": "9391ee14",
   "metadata": {},
   "source": [
    "## Imports (& Load ENV variables)"
   ]
  },
  {
   "cell_type": "code",
   "execution_count": 9,
   "id": "ecdc3976",
   "metadata": {},
   "outputs": [
    {
     "data": {
      "text/plain": [
       "True"
      ]
     },
     "execution_count": 9,
     "metadata": {},
     "output_type": "execute_result"
    }
   ],
   "source": [
    "import requests\n",
    "import time\n",
    "import tempfile\n",
    "from os import environ as ENV\n",
    "from dotenv import load_dotenv\n",
    "from pyspark.sql import SparkSession\n",
    "from io import StringIO\n",
    "\n",
    "load_dotenv()"
   ]
  },
  {
   "cell_type": "markdown",
   "id": "2fe4984f",
   "metadata": {},
   "source": [
    "## Initialise Spark Session"
   ]
  },
  {
   "cell_type": "code",
   "execution_count": 2,
   "id": "e0984c5d",
   "metadata": {},
   "outputs": [
    {
     "name": "stderr",
     "output_type": "stream",
     "text": [
      "WARNING: Using incubator modules: jdk.incubator.vector\n",
      "Using Spark's default log4j profile: org/apache/spark/log4j2-defaults.properties\n",
      "Setting default log level to \"WARN\".\n",
      "To adjust logging level use sc.setLogLevel(newLevel). For SparkR, use setLogLevel(newLevel).\n",
      "25/09/29 11:35:14 WARN NativeCodeLoader: Unable to load native-hadoop library for your platform... using builtin-java classes where applicable\n"
     ]
    }
   ],
   "source": [
    "spark = SparkSession.builder \\\n",
    "    .appName(\"Reporting_Test\") \\\n",
    "    .getOrCreate()"
   ]
  },
  {
   "cell_type": "markdown",
   "id": "637b5686",
   "metadata": {},
   "source": [
    "## Beeswax API Authenticate"
   ]
  },
  {
   "cell_type": "code",
   "execution_count": 3,
   "id": "bb060292",
   "metadata": {},
   "outputs": [
    {
     "name": "stdout",
     "output_type": "stream",
     "text": [
      "{'success': True, 'message': 'Cookie set successfully'}\n"
     ]
    }
   ],
   "source": [
    "auth_url = ENV['BEESWAX_BASE_URL']+'/authenticate'\n",
    "auth_payload = {'email': ENV['BEESWAX_EMAIL'], 'password': ENV['BEESWAX_PASSWORD']}\n",
    "auth_headers = {'Content-Type': 'application/json'}\n",
    "\n",
    "# authenticate request\n",
    "\n",
    "response = requests.post(auth_url, json=auth_payload, headers=auth_headers)\n",
    "response.raise_for_status()\n",
    "\n",
    "print(response.json())\n",
    "\n",
    "# store auth cookie in session\n",
    "\n",
    "session = requests.Session()\n",
    "\n",
    "auth_response = session.post(auth_url, json=auth_payload, headers=auth_headers)\n",
    "auth_response.raise_for_status()\n"
   ]
  },
  {
   "cell_type": "markdown",
   "id": "747eeb8d",
   "metadata": {},
   "source": [
    "## Beeswax API Call (Report Dump)"
   ]
  },
  {
   "cell_type": "code",
   "execution_count": 18,
   "id": "c0dab851",
   "metadata": {},
   "outputs": [],
   "source": [
    "def bw_api_get_report_fields(report_type):\n",
    "    \"\"\"retrieve all fields for given report\"\"\"\n",
    "    report_url = ENV['BEESWAX_BASE_URL']+'/v2/reporting/reports/'+report_type\n",
    "\n",
    "    report_response = session.get(report_url)\n",
    "    report_response.raise_for_status()\n",
    "    data = report_response.json()\n",
    "\n",
    "    return [val['name'] for val in data['fields']]\n",
    "\n",
    "\n",
    "    "
   ]
  },
  {
   "cell_type": "markdown",
   "id": "f15283ec",
   "metadata": {},
   "source": [
    "## Beeswax API Call (Get Report)"
   ]
  },
  {
   "cell_type": "code",
   "execution_count": 13,
   "id": "e5863ad6",
   "metadata": {},
   "outputs": [],
   "source": [
    "def bw_api_get_report(report_type, field_list, filter_dict):\n",
    "    \"\"\"retrieve beeswax report\"\"\"\n",
    "    report_url = ENV['BEESWAX_BASE_URL']+'/v2/reporting/run-query'\n",
    "    report_payload={\n",
    "        'view': report_type,\n",
    "        'fields': field_list,\n",
    "        'filters': filter_dict,\n",
    "        'result_format': 'csv'\n",
    "    }\n",
    "    print('generate report')\n",
    "    report_response = session.post(report_url, json=report_payload)\n",
    "    report_response.raise_for_status()\n",
    "    data = report_response.json()\n",
    "\n",
    "    task_id = data['task_id']\n",
    "    async_url = ENV['BEESWAX_BASE_URL']+'/v2/reporting/async-results/'+task_id\n",
    "\n",
    "    start_time = time.time()\n",
    "    max_wait_seconds = 60\n",
    "\n",
    "    while True:\n",
    "        result_response = session.get(async_url)\n",
    "        if result_response.status_code == 200:\n",
    "            print('report received')\n",
    "            print('spark initialise')\n",
    "            # write to temp file\n",
    "            with tempfile.NamedTemporaryFile(mode=\"w+\", suffix=\".csv\", delete=False) as temp:\n",
    "                temp.write(result_response.text)\n",
    "                temp_path = temp.name\n",
    "            report_df = spark.read.option('header', True).option('inferSchema', True).csv(temp_path)\n",
    "            #rdd = spark.sparkContext.parallelize(result_response.text.splitlines())\n",
    "            #report_df = spark.read.option('header', True).option('inferSchema', True).csv(rdd)\n",
    "            break\n",
    "        elif result_response.status_code == 202:\n",
    "            elapsed_time = time.time() - start_time\n",
    "            if elapsed_time > max_wait_seconds:\n",
    "                raise TimeoutError (f'Report not ready after {max_wait_seconds} seconds')\n",
    "            time.sleep(5)\n",
    "        else:\n",
    "            result_response.raise_for_status()\n",
    "\n",
    "    return report_df\n",
    "\n",
    "\n"
   ]
  },
  {
   "cell_type": "markdown",
   "id": "54fdf3db",
   "metadata": {},
   "source": [
    "## Get Performance and Bid Performance Report Data"
   ]
  },
  {
   "cell_type": "code",
   "execution_count": null,
   "id": "ae6660af",
   "metadata": {},
   "outputs": [
    {
     "name": "stdout",
     "output_type": "stream",
     "text": [
      "generate report\n",
      "report received\n",
      "spark initialise\n"
     ]
    },
    {
     "data": {
      "text/plain": [
       "'\\nperformance_report_df = bw_api_get_report(\\n    \\'performance_agg\\',\\n    [\\n        \"bid_day\", \\n        \"advertiser_id\", \\n        \"advertiser_name\", \\n        \"campaign_id\", \\n        \"campaign_name\", \\n        \"line_item_id\", \\n        \"line_item_name\", \\n        \"creative_id\", \\n        \"creative_name\", \\n        \"creative_size\",\\n        \"impression\", \\n        \"clicks\", \\n        \"media_spend\", \\n        \"postback_conversions\", \\n        \"viewthrough_conversions\", \\n        \"clickthrough_conversions\", \\n        \"video_plays\", \\n        \"video_q1s\", \\n        \"video_midpoints\", \\n        \"video_q3s\", \\n        \"video_completes\", \\n        \"cpm\", \\n        \"cpc\", \\n        \"spend_per_conversion\", \\n        \"ctr\"\\n    ],\\n    {\\n        \\'bid_day\\': \\'2025-09-26\\'\\n    }\\n)\\n\\nbid_performance_report_df = bw_api_get_report(\\n    \\'bid_performance_agg\\',\\n    [\\n        \"bid_day\", \\n        \"advertiser_id\", \\n        \"campaign_id\", \\n        \"line_item_id\",  \\n        \"creative_id\", \\n        \"bid\",\\n        \"win_rate\"\\n    ],\\n    {\\n        \\'bid_day\\': \\'2025-09-26\\'\\n    }\\n)\\n'"
      ]
     },
     "execution_count": 15,
     "metadata": {},
     "output_type": "execute_result"
    }
   ],
   "source": [
    "\n",
    "performance_fields = bw_api_get_report_fields('performance_agg')\n",
    "performance_report_df = bw_api_get_report('performance_agg', performance_fields, {'bid_day': '2025-09-26'})\n",
    "\n",
    "bid_performance_fields = bw_api_get_report_fields('bid_performance_agg')\n",
    "bid_performance_report_df = bw_api_get_report('bid_performance_agg', bid_performance_fields, {'bid_day': '2025-09-26'})\n",
    "\n",
    "\"\"\"\n",
    "performance_report_df = bw_api_get_report(\n",
    "    'performance_agg',\n",
    "    [\n",
    "        \"bid_day\", \n",
    "        \"advertiser_id\", \n",
    "        \"advertiser_name\", \n",
    "        \"campaign_id\", \n",
    "        \"campaign_name\", \n",
    "        \"line_item_id\", \n",
    "        \"line_item_name\", \n",
    "        \"creative_id\", \n",
    "        \"creative_name\", \n",
    "        \"creative_size\",\n",
    "        \"impression\", \n",
    "        \"clicks\", \n",
    "        \"media_spend\", \n",
    "        \"postback_conversions\", \n",
    "        \"viewthrough_conversions\", \n",
    "        \"clickthrough_conversions\", \n",
    "        \"video_plays\", \n",
    "        \"video_q1s\", \n",
    "        \"video_midpoints\", \n",
    "        \"video_q3s\", \n",
    "        \"video_completes\", \n",
    "        \"cpm\", \n",
    "        \"cpc\", \n",
    "        \"spend_per_conversion\", \n",
    "        \"ctr\"\n",
    "    ],\n",
    "    {\n",
    "        'bid_day': '2025-09-26'\n",
    "    }\n",
    ")\n",
    "\n",
    "bid_performance_report_df = bw_api_get_report(\n",
    "    'bid_performance_agg',\n",
    "    [\n",
    "        \"bid_day\", \n",
    "        \"advertiser_id\", \n",
    "        \"campaign_id\", \n",
    "        \"line_item_id\",  \n",
    "        \"creative_id\", \n",
    "        \"bid\",\n",
    "        \"win_rate\"\n",
    "    ],\n",
    "    {\n",
    "        'bid_day': '2025-09-26'\n",
    "    }\n",
    ")\n",
    "\"\"\"\n"
   ]
  },
  {
   "cell_type": "markdown",
   "id": "ad720c3d",
   "metadata": {},
   "source": [
    "## Beeswax Join Performance & Bid Performance Reports"
   ]
  },
  {
   "cell_type": "code",
   "execution_count": null,
   "id": "0cd36a2a",
   "metadata": {},
   "outputs": [],
   "source": [
    "# NEXT STEPS: WRITE EACH REPORT TO SEPARATE TABLES & JOIN LATER IN SNOWFLAKE\n",
    "# OR: CHANGE 'SHARED_COLS' COLUMN NAMES TO MATCH DF, JOIN, THEN WRITE TO SINGULAR TABLE\n",
    "\n",
    "shared_cols = [\"bid_day\", \"advertiser_id\", \"campaign_id\", \"line_item_id\", \"creative_id\"]\n",
    "\n",
    "performance_report_df.show()\n",
    "bid_performance_report_df.show()\n",
    "\n",
    "#merged_df = performance_report_df.join(bid_performance_report_df, on = shared_cols, how = 'left')\n",
    "\n",
    "#merged_df.show()"
   ]
  },
  {
   "cell_type": "markdown",
   "id": "677a6187",
   "metadata": {},
   "source": [
    "## Beeswax Write to Staging Table"
   ]
  },
  {
   "cell_type": "code",
   "execution_count": null,
   "id": "5093abaf",
   "metadata": {},
   "outputs": [],
   "source": []
  },
  {
   "cell_type": "markdown",
   "id": "cf0967f8",
   "metadata": {},
   "source": [
    "## Ipon API Call"
   ]
  },
  {
   "cell_type": "markdown",
   "id": "50cd89e9",
   "metadata": {},
   "source": [
    "## Ipon Write to Staging Table"
   ]
  },
  {
   "cell_type": "markdown",
   "id": "c6759107",
   "metadata": {},
   "source": []
  }
 ],
 "metadata": {
  "kernelspec": {
   "display_name": ".venv (3.13.7)",
   "language": "python",
   "name": "python3"
  },
  "language_info": {
   "codemirror_mode": {
    "name": "ipython",
    "version": 3
   },
   "file_extension": ".py",
   "mimetype": "text/x-python",
   "name": "python",
   "nbconvert_exporter": "python",
   "pygments_lexer": "ipython3",
   "version": "3.13.7"
  }
 },
 "nbformat": 4,
 "nbformat_minor": 5
}
