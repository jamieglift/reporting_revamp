{
 "cells": [
  {
   "cell_type": "markdown",
   "id": "a60207ae",
   "metadata": {},
   "source": [
    "# Ingest Beeswax & Ipon Reports (API)"
   ]
  },
  {
   "cell_type": "markdown",
   "id": "9391ee14",
   "metadata": {},
   "source": [
    "## Imports (& Load ENV variables)"
   ]
  },
  {
   "cell_type": "code",
   "execution_count": null,
   "id": "ecdc3976",
   "metadata": {},
   "outputs": [],
   "source": [
    "import requests\n",
    "import time\n",
    "import tempfile\n",
    "from os import environ as ENV\n",
    "from dotenv import load_dotenv\n",
    "from pyspark.sql import SparkSession\n",
    "from io import StringIO\n",
    "\n",
    "load_dotenv()"
   ]
  },
  {
   "cell_type": "markdown",
   "id": "2fe4984f",
   "metadata": {},
   "source": [
    "## Initialise Spark Session"
   ]
  },
  {
   "cell_type": "code",
   "execution_count": null,
   "id": "e0984c5d",
   "metadata": {},
   "outputs": [],
   "source": [
    "spark = (\n",
    "    SparkSession.builder\n",
    "    .appName(\"Reporting_Test\")\n",
    "    .config(\"spark.jars.packages\", \"org.postgresql:postgresql:42.6.0\")\n",
    "    .getOrCreate()\n",
    ")\n",
    "print(spark.sparkContext.getConf().get(\"spark.jars.packages\"))"
   ]
  },
  {
   "cell_type": "markdown",
   "id": "637b5686",
   "metadata": {},
   "source": [
    "## Beeswax API Authenticate"
   ]
  },
  {
   "cell_type": "code",
   "execution_count": null,
   "id": "bb060292",
   "metadata": {},
   "outputs": [],
   "source": [
    "auth_url = ENV['BEESWAX_BASE_URL']+'/authenticate'\n",
    "auth_payload = {'email': ENV['BEESWAX_EMAIL'], 'password': ENV['BEESWAX_PASSWORD']}\n",
    "auth_headers = {'Content-Type': 'application/json'}\n",
    "\n",
    "# authenticate request\n",
    "\n",
    "response = requests.post(auth_url, json=auth_payload, headers=auth_headers)\n",
    "response.raise_for_status()\n",
    "\n",
    "print(response.json())\n",
    "\n",
    "# store auth cookie in session\n",
    "\n",
    "session = requests.Session()\n",
    "\n",
    "auth_response = session.post(auth_url, json=auth_payload, headers=auth_headers)\n",
    "auth_response.raise_for_status()"
   ]
  },
  {
   "cell_type": "markdown",
   "id": "747eeb8d",
   "metadata": {},
   "source": [
    "## Beeswax API Call (Report Dump)"
   ]
  },
  {
   "cell_type": "code",
   "execution_count": null,
   "id": "c0dab851",
   "metadata": {},
   "outputs": [],
   "source": [
    "def bw_api_get_report_fields(report_type):\n",
    "    \"\"\"retrieve all fields for given report\"\"\"\n",
    "    report_url = ENV['BEESWAX_BASE_URL']+'/v2/reporting/reports/'+report_type\n",
    "\n",
    "    report_response = session.get(report_url)\n",
    "    report_response.raise_for_status()\n",
    "    data = report_response.json()\n",
    "\n",
    "    return [val['name'] for val in data['fields']]"
   ]
  },
  {
   "cell_type": "markdown",
   "id": "f15283ec",
   "metadata": {},
   "source": [
    "## Beeswax API Call (Get Report)"
   ]
  },
  {
   "cell_type": "code",
   "execution_count": null,
   "id": "e5863ad6",
   "metadata": {},
   "outputs": [],
   "source": [
    "def bw_api_get_report(report_type, field_list, filter_dict):\n",
    "    \"\"\"retrieve beeswax report\"\"\"\n",
    "    report_url = ENV['BEESWAX_BASE_URL']+'/v2/reporting/run-query'\n",
    "    report_payload={\n",
    "        'view': report_type,\n",
    "        'fields': field_list,\n",
    "        'filters': filter_dict,\n",
    "        'result_format': 'csv'\n",
    "    }\n",
    "    print('generate report')\n",
    "    report_response = session.post(report_url, json=report_payload)\n",
    "    report_response.raise_for_status()\n",
    "    data = report_response.json()\n",
    "\n",
    "    task_id = data['task_id']\n",
    "    async_url = ENV['BEESWAX_BASE_URL']+'/v2/reporting/async-results/'+task_id\n",
    "\n",
    "    start_time = time.time()\n",
    "    max_wait_seconds = 60\n",
    "\n",
    "    while True:\n",
    "        result_response = session.get(async_url)\n",
    "        if result_response.status_code == 200:\n",
    "            print('report received')\n",
    "            print('spark initialise')\n",
    "            # write to temp file\n",
    "            with tempfile.NamedTemporaryFile(mode=\"w+\", suffix=\".csv\", delete=False) as temp:\n",
    "                temp.write(result_response.text)\n",
    "                temp_path = temp.name\n",
    "            report_df = spark.read.option('header', True).option('inferSchema', True).csv(temp_path)\n",
    "            #rdd = spark.sparkContext.parallelize(result_response.text.splitlines())\n",
    "            #report_df = spark.read.option('header', True).option('inferSchema', True).csv(rdd)\n",
    "            break\n",
    "        elif result_response.status_code == 202:\n",
    "            elapsed_time = time.time() - start_time\n",
    "            if elapsed_time > max_wait_seconds:\n",
    "                raise TimeoutError (f'Report not ready after {max_wait_seconds} seconds')\n",
    "            time.sleep(5)\n",
    "        else:\n",
    "            result_response.raise_for_status()\n",
    "\n",
    "    return report_df\n"
   ]
  },
  {
   "cell_type": "markdown",
   "id": "54fdf3db",
   "metadata": {},
   "source": [
    "## Get Performance and Bid Performance Report Data"
   ]
  },
  {
   "cell_type": "code",
   "execution_count": null,
   "id": "ae6660af",
   "metadata": {},
   "outputs": [],
   "source": [
    "\n",
    "performance_fields = bw_api_get_report_fields('performance_agg')\n",
    "performance_report_df = bw_api_get_report('performance_agg', performance_fields, {'bid_day': '2025-09-26'})\n",
    "\n",
    "bid_performance_fields = bw_api_get_report_fields('bid_performance_agg')\n",
    "bid_performance_report_df = bw_api_get_report('bid_performance_agg', bid_performance_fields, {'bid_day': '2025-09-26'})\n",
    "\n",
    "geography_fields = bw_api_get_report_fields('geo_agg')\n",
    "geography_report_df = bw_api_get_report('geo_agg', geography_fields, {'bid_day': '2025-09-26'})\n",
    "\n",
    "\n",
    "platform_fields = bw_api_get_report_fields('platform_agg')\n",
    "platform_report_df = bw_api_get_report('platform_agg', platform_fields, {'bid_day': '2025-09-26'})\n",
    "\n",
    "\n",
    "\"\"\"\n",
    "bid_performance_report_df = bw_api_get_report(\n",
    "    'bid_performance_agg',\n",
    "    [\n",
    "        \"bid_day\", \n",
    "        \"advertiser_id\", \n",
    "        \"campaign_id\", \n",
    "        \"line_item_id\",  \n",
    "        \"creative_id\", \n",
    "        \"bid\",\n",
    "        \"win_rate\"\n",
    "    ],\n",
    "    {\n",
    "        'bid_day': '2025-09-26'\n",
    "    }\n",
    ")\n",
    "\"\"\"\n"
   ]
  },
  {
   "cell_type": "markdown",
   "id": "677a6187",
   "metadata": {},
   "source": [
    "## Beeswax Write to DB Staging Table"
   ]
  },
  {
   "cell_type": "code",
   "execution_count": null,
   "id": "5093abaf",
   "metadata": {},
   "outputs": [],
   "source": [
    "def write_staging_table(report_df, table_name):\n",
    "    \"\"\"write report df to its staging table\"\"\"\n",
    "    report_df.write.jdbc(\n",
    "        url=f\"jdbc:postgresql://{ENV['DB_HOST']}:{ENV['DB_PORT']}/{ENV['DB_NAME']}\",\n",
    "        table=f'{table_name}_rep_staging',\n",
    "        mode='overwrite',\n",
    "        properties={\n",
    "             \"user\": ENV['DB_USER'],\n",
    "            \"password\": ENV['DB_PASSWORD'],\n",
    "            \"driver\": \"org.postgresql.Driver\"\n",
    "        }\n",
    "    )"
   ]
  },
  {
   "cell_type": "code",
   "execution_count": null,
   "id": "e726081c",
   "metadata": {},
   "outputs": [],
   "source": [
    "write_staging_table(performance_report_df, 'performance')\n",
    "write_staging_table(bid_performance_report_df, 'bid_performance')\n",
    "write_staging_table(geography_report_df, 'geography')\n",
    "write_staging_table(platform_report_df, 'platform')"
   ]
  },
  {
   "cell_type": "markdown",
   "id": "cf0967f8",
   "metadata": {},
   "source": [
    "## Ipon API Get Report Fields"
   ]
  },
  {
   "cell_type": "code",
   "execution_count": null,
   "id": "660fc48f",
   "metadata": {},
   "outputs": [],
   "source": [
    "def ipon_api_get_report_fields():\n",
    "    \"\"\"return all available report fields with descriptions\"\"\"\n",
    "    get_fields_url = 'https://uslicer.iponweb.com/API/v2/info'\n",
    "    get_fields_payload = {'slicer_name': ENV['IPON_SLICER'],'project_name': ENV['IPON_PROJECT'],'token': ENV['IPON_TOKEN']}\n",
    "    get_fields_headers = {'Content-Type': 'application/json'}\n",
    "\n",
    "    response = requests.post(get_fields_url, json=get_fields_payload, headers=get_fields_headers)\n",
    "    response.raise_for_status()\n",
    "    data = response.json()\n",
    "\n",
    "    fields = {}\n",
    "\n",
    "    # mapping dimensions & metrics w/ descriptions\n",
    "    for val in data.get('key_fields', []):\n",
    "        fields[val['name']] = val.get('description') or val['name']\n",
    "\n",
    "    for val in data.get('data_fields', []):\n",
    "        fields[val['name']] = val.get('description') or val['name']\n",
    "\n",
    "    return fields\n"
   ]
  },
  {
   "cell_type": "code",
   "execution_count": null,
   "id": "be48d505",
   "metadata": {},
   "outputs": [],
   "source": [
    "fields_with_desc = ipon_api_get_report_fields()\n",
    "for api_name, description in list(fields_with_desc.items()):\n",
    "    print(f\"{api_name} -> {description}\")"
   ]
  },
  {
   "cell_type": "markdown",
   "id": "4c93ccdd",
   "metadata": {},
   "source": [
    "## Ipon Get Report Data"
   ]
  },
  {
   "cell_type": "code",
   "execution_count": null,
   "id": "eafc0f0a",
   "metadata": {},
   "outputs": [],
   "source": [
    "def ipon_api_get_report():\n",
    "    \"\"\"get api data\"\"\"\n",
    "    get_report_url = 'https://uslicer.iponweb.com/API/v2/export'\n",
    "    get_report_payload = {\n",
    "        'slicer_name': ENV['IPON_SLICER'] , \n",
    "        'project_name': ENV['IPON_PROJECT'], \n",
    "        'token': ENV['IPON_TOKEN'],\n",
    "        \"start_date\": \"-1d\",\n",
    "        \"end_date\": \"-1d\",\n",
    "        \"split_by\": [\n",
    "            \"granularity_day\",\n",
    "            \"advertiser_id\",\n",
    "            \"agency_id\",\n",
    "            \"campaign_id\",\n",
    "            \"line_item_id\",\n",
    "            \"creative_id\",\n",
    "            \"creative_size\",\n",
    "            \"categories\",\n",
    "            \"browser_name\",\n",
    "            \"country\",\n",
    "            \"city\",\n",
    "            \"device_maker\",\n",
    "            \"device_type\",\n",
    "            \"os_name\"\n",
    "        ],\n",
    "        \"timezone\": 0,\n",
    "        \"order_by\": [\n",
    "            {\n",
    "                \"name\": \"granularity_day\",\n",
    "                \"direction\": \"ASC\"\n",
    "            }\n",
    "        ],\n",
    "        \"include_mappings\": 1,\n",
    "        \"add_keys\": [\n",
    "            \"granularity_day\"\n",
    "        ],\n",
    "        \"data_fields\": [\n",
    "            \"imps\",\n",
    "            \"clicks\",\n",
    "            \"custom_column_6659\", # total spend\n",
    "            \"convs\",\n",
    "            \"convs_pv\",\n",
    "            \"convs_pc\",\n",
    "            \"vast_start\",\n",
    "            \"vast_firstQuartile\",\n",
    "            \"vast_midpoint\",\n",
    "            \"vast_thirdQuartile\",\n",
    "            \"vast_complete\",\n",
    "            \"bids\",\n",
    "            \"custom_column_12211\", # Win-Rate\n",
    "            \"custom_column_34227\", # CPM\n",
    "            \"custom_column_6655\", # CPC\n",
    "            \"custom_column_6657\", # CPA\n",
    "            \"ctr\",\n",
    "        ],\n",
    "        'export_format': 'csv'\n",
    "    }\n",
    "    get_report_headers = {'Content-Type': 'application/json'}\n",
    "\n",
    "    response = requests.post(get_report_url, json=get_report_payload, headers=get_report_headers)\n",
    "    response.raise_for_status()\n",
    "\n",
    "    return response.text"
   ]
  },
  {
   "cell_type": "code",
   "execution_count": null,
   "id": "b8417426",
   "metadata": {},
   "outputs": [],
   "source": [
    "ipon_report = ipon_api_get_report()\n",
    "print(ipon_report)"
   ]
  },
  {
   "cell_type": "markdown",
   "id": "50cd89e9",
   "metadata": {},
   "source": [
    "## Ipon Write to Staging Table"
   ]
  },
  {
   "cell_type": "code",
   "execution_count": null,
   "id": "4e04d4b1",
   "metadata": {},
   "outputs": [],
   "source": [
    "spark = SparkSession.builder.getOrCreate()\n",
    "\n",
    "with tempfile.NamedTemporaryFile(mode=\"w+\", suffix=\".csv\", delete=False) as temp:\n",
    "    temp.write(ipon_report)\n",
    "    temp_path = temp.name\n",
    "\n",
    "ipon_report_df = spark.read.option(\"header\", True).option(\"inferSchema\", True).csv(temp_path)\n",
    "\n",
    "# write to db staging table\n",
    "write_staging_table(ipon_report_df, \"ipon\")\n"
   ]
  }
 ],
 "metadata": {
  "kernelspec": {
   "display_name": ".venv (3.13.7)",
   "language": "python",
   "name": "python3"
  },
  "language_info": {
   "codemirror_mode": {
    "name": "ipython",
    "version": 3
   },
   "file_extension": ".py",
   "mimetype": "text/x-python",
   "name": "python",
   "nbconvert_exporter": "python",
   "pygments_lexer": "ipython3",
   "version": "3.13.7"
  }
 },
 "nbformat": 4,
 "nbformat_minor": 5
}
